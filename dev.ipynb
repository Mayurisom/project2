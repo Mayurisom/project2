{
 "cells": [
  {
   "cell_type": "markdown",
   "id": "56374155",
   "metadata": {},
   "source": [
    "# variable\n"
   ]
  },
  {
   "cell_type": "code",
   "execution_count": null,
   "id": "68bc9d21",
   "metadata": {},
   "outputs": [],
   "source": [
    "a=10 # int\n",
    "b= 15.5 #float\n",
    "c= \"Mayuri\" #string\n",
    "d= [1,2,4,3,5,5,\"mayu\"] # list\n",
    "e= {1,2,3,4,5,5,6,7,8} #set\n",
    "f = {\"players name\" : [\"mayu\",\"mayur\"]} # dict\n",
    "g= [1,2,3,4,5] #tuple"
   ]
  },
  {
   "cell_type": "code",
   "execution_count": 7,
   "id": "aa3c9644",
   "metadata": {},
   "outputs": [
    {
     "ename": "NameError",
     "evalue": "name 'a' is not defined",
     "output_type": "error",
     "traceback": [
      "\u001b[1;31m---------------------------------------------------------------------------\u001b[0m",
      "\u001b[1;31mNameError\u001b[0m                                 Traceback (most recent call last)",
      "\u001b[1;32m~\\AppData\\Local\\Temp/ipykernel_3284/1189138062.py\u001b[0m in \u001b[0;36m<module>\u001b[1;34m\u001b[0m\n\u001b[1;32m----> 1\u001b[1;33m \u001b[0mprint\u001b[0m\u001b[1;33m(\u001b[0m\u001b[0ma\u001b[0m\u001b[1;33m)\u001b[0m\u001b[1;33m\u001b[0m\u001b[1;33m\u001b[0m\u001b[0m\n\u001b[0m",
      "\u001b[1;31mNameError\u001b[0m: name 'a' is not defined"
     ]
    }
   ],
   "source": [
    "print(a)"
   ]
  },
  {
   "cell_type": "code",
   "execution_count": 27,
   "id": "e45a02ed",
   "metadata": {},
   "outputs": [
    {
     "name": "stdout",
     "output_type": "stream",
     "text": [
      "a is less than b\n"
     ]
    }
   ],
   "source": [
    "a= 10\n",
    "b= 20\n",
    "if a < b : # true\n",
    "    print(\"a is less than b\")#1\n",
    "\n",
    "else:\n",
    "    print (\"b is greater than a\")#2"
   ]
  },
  {
   "cell_type": "code",
   "execution_count": 28,
   "id": "b89847d1",
   "metadata": {},
   "outputs": [
    {
     "name": "stdout",
     "output_type": "stream",
     "text": [
      "1\n",
      "2\n",
      "3\n",
      "4\n",
      "5\n",
      "6\n",
      "7\n",
      "8\n",
      "9\n"
     ]
    }
   ],
   "source": [
    "for i in range (1,10):\n",
    "    print(i)"
   ]
  },
  {
   "cell_type": "code",
   "execution_count": 29,
   "id": "c1e960ed",
   "metadata": {},
   "outputs": [
    {
     "data": {
      "text/plain": [
       "[1, 2, 3, 4, 5, 6, 7, 8, 9]"
      ]
     },
     "execution_count": 29,
     "metadata": {},
     "output_type": "execute_result"
    }
   ],
   "source": [
    "list(range(1,10))"
   ]
  },
  {
   "cell_type": "code",
   "execution_count": 30,
   "id": "8e57f68d",
   "metadata": {},
   "outputs": [
    {
     "data": {
      "text/plain": [
       "'mayu'"
      ]
     },
     "execution_count": 30,
     "metadata": {},
     "output_type": "execute_result"
    }
   ],
   "source": [
    "global variable\n",
    "\n",
    "var1=\"mayu\"\n",
    "var1"
   ]
  },
  {
   "cell_type": "code",
   "execution_count": 56,
   "id": "a6b668f3",
   "metadata": {},
   "outputs": [
    {
     "name": "stdout",
     "output_type": "stream",
     "text": [
      "mayu\n"
     ]
    }
   ],
   "source": [
    "#local variable\n",
    "\n",
    "def get_fun():\n",
    "            var2=\"mayu\"\n",
    "        \n",
    "            print(var2)\n",
    "\n",
    "get_fun()"
   ]
  },
  {
   "cell_type": "code",
   "execution_count": 52,
   "id": "4185535d",
   "metadata": {},
   "outputs": [
    {
     "name": "stdout",
     "output_type": "stream",
     "text": [
      "mayu\n",
      "mayur\n"
     ]
    }
   ],
   "source": [
    "\n",
    "def get_fun():\n",
    "            var2=\"mayu\"\n",
    "            global var3 \n",
    "            var3 =\"mayur\"\n",
    "        \n",
    "            print(var2)\n",
    "            print(var3)\n",
    "\n",
    "get_fun()"
   ]
  },
  {
   "cell_type": "code",
   "execution_count": 53,
   "id": "8386e961",
   "metadata": {},
   "outputs": [
    {
     "data": {
      "text/plain": [
       "'mayu'"
      ]
     },
     "execution_count": 53,
     "metadata": {},
     "output_type": "execute_result"
    }
   ],
   "source": [
    "var1"
   ]
  },
  {
   "cell_type": "code",
   "execution_count": 54,
   "id": "a4be732c",
   "metadata": {},
   "outputs": [
    {
     "ename": "NameError",
     "evalue": "name 'var2' is not defined",
     "output_type": "error",
     "traceback": [
      "\u001b[1;31m---------------------------------------------------------------------------\u001b[0m",
      "\u001b[1;31mNameError\u001b[0m                                 Traceback (most recent call last)",
      "\u001b[1;32m~\\AppData\\Local\\Temp/ipykernel_3284/822739788.py\u001b[0m in \u001b[0;36m<module>\u001b[1;34m\u001b[0m\n\u001b[1;32m----> 1\u001b[1;33m \u001b[0mvar2\u001b[0m\u001b[1;33m\u001b[0m\u001b[1;33m\u001b[0m\u001b[0m\n\u001b[0m",
      "\u001b[1;31mNameError\u001b[0m: name 'var2' is not defined"
     ]
    }
   ],
   "source": [
    "var2"
   ]
  },
  {
   "cell_type": "code",
   "execution_count": 55,
   "id": "1a47b756",
   "metadata": {},
   "outputs": [
    {
     "data": {
      "text/plain": [
       "'mayur'"
      ]
     },
     "execution_count": 55,
     "metadata": {},
     "output_type": "execute_result"
    }
   ],
   "source": [
    "var3"
   ]
  },
  {
   "cell_type": "code",
   "execution_count": null,
   "id": "dc19efa9",
   "metadata": {},
   "outputs": [],
   "source": []
  }
 ],
 "metadata": {
  "kernelspec": {
   "display_name": "Python 3 (ipykernel)",
   "language": "python",
   "name": "python3"
  },
  "language_info": {
   "codemirror_mode": {
    "name": "ipython",
    "version": 3
   },
   "file_extension": ".py",
   "mimetype": "text/x-python",
   "name": "python",
   "nbconvert_exporter": "python",
   "pygments_lexer": "ipython3",
   "version": "3.9.7"
  }
 },
 "nbformat": 4,
 "nbformat_minor": 5
}
